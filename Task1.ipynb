{
 "cells": [
  {
   "cell_type": "code",
   "execution_count": 2,
   "id": "5b4e2600",
   "metadata": {},
   "outputs": [
    {
     "name": "stdout",
     "output_type": "stream",
     "text": [
      "1.9920979817708333e+20\n"
     ]
    }
   ],
   "source": [
    "G = 6.67 * (10 ** -11)\n",
    "M = 6.0 * (10 ** 24) \n",
    "m = 7.34 * (10 ** 22)  \n",
    "r = 3.84 * (10 ** 8)\n",
    "\n",
    "Fg = (G * M * m) / (r ** 2)\n",
    "print(Fg)\n"
   ]
  },
  {
   "cell_type": "code",
   "execution_count": null,
   "id": "c8e26dad",
   "metadata": {},
   "outputs": [],
   "source": [
    "\n"
   ]
  },
  {
   "cell_type": "code",
   "execution_count": null,
   "id": "175070fd",
   "metadata": {},
   "outputs": [],
   "source": []
  }
 ],
 "metadata": {
  "kernelspec": {
   "display_name": "Python 3 (ipykernel)",
   "language": "python",
   "name": "python3"
  },
  "language_info": {
   "codemirror_mode": {
    "name": "ipython",
    "version": 3
   },
   "file_extension": ".py",
   "mimetype": "text/x-python",
   "name": "python",
   "nbconvert_exporter": "python",
   "pygments_lexer": "ipython3",
   "version": "3.10.9"
  }
 },
 "nbformat": 4,
 "nbformat_minor": 5
}
